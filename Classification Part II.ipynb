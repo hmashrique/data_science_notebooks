{
 "cells": [
  {
   "cell_type": "markdown",
   "metadata": {},
   "source": [
    "# Other classification methods\n"
   ]
  },
  {
   "cell_type": "markdown",
   "metadata": {},
   "source": [
    "## Review\n",
    "\n",
    "Regression and classification are two classes of problems in machine learning.\n",
    "\n",
    "We know the similarity and difference between regression and classification.\n",
    "\n",
    "In terms of similarity, target (y) is known.\n",
    "\n",
    "In terms of difference, for regression y is continuous; for classification y is discrete.\n",
    "\n",
    "\n",
    "We learned about linear regression (regression) and decision tree (classification).\n",
    "\n",
    "We learned about validation (R2 for regression and precision/recall for classification).\n",
    "\n",
    "We learned about cross-validation, the importance of training and testing on different data.  We learned about validating (training/testing) across multiple different datasets.\n",
    "\n"
   ]
  },
  {
   "cell_type": "markdown",
   "metadata": {},
   "source": [
    "## Other classification methods\n",
    "\n",
    "We will learn about logistics regression and support vector machine.  We'll try to understand the fundamental concepts behind these methods; and how to use them.\n"
   ]
  },
  {
   "cell_type": "markdown",
   "metadata": {},
   "source": [
    "### Logistics Regression"
   ]
  },
  {
   "cell_type": "markdown",
   "metadata": {},
   "source": [
    "![logistics regression vs linear regression](./linear_vs_logistic_regression.png)\n"
   ]
  },
  {
   "cell_type": "markdown",
   "metadata": {},
   "source": [
    "In linear regression, we find $y = \\alpha \\cdot x + \\beta$ to fit the data.\n",
    "\n",
    "In logistics regression, we find $y = 1 / (1 + e^{- x \\cdot \\alpha})$ to fit the data.\n",
    "\n"
   ]
  },
  {
   "cell_type": "markdown",
   "metadata": {},
   "source": [
    "## Support Vector Machine\n",
    "\n",
    "![SVM](./svm.png)"
   ]
  },
  {
   "cell_type": "markdown",
   "metadata": {},
   "source": [
    "We try to find a linear model/equation that best separates the data into two classes.  The linear function is y = f(x) = wx + b.  The right linear function results in f(x) being +1 or -1.\n",
    "\n"
   ]
  },
  {
   "cell_type": "code",
   "execution_count": 1,
   "metadata": {},
   "outputs": [],
   "source": [
    "from sklearn.tree import DecisionTreeClassifier\n",
    "from sklearn.svm import SVC\n",
    "from sklearn.linear_model import LogisticRegression"
   ]
  },
  {
   "cell_type": "markdown",
   "metadata": {},
   "source": [
    "Compare the performance of these three methods on prediction of (A) iris species, and (B) admission to UCLA grad school.\n",
    "\n",
    "To rigorously compare the performance, you should cross validate.  Use stratified KFold (k=10), to cross validate.  Performance measures should be precision and recall.  "
   ]
  },
  {
   "cell_type": "code",
   "execution_count": 2,
   "metadata": {},
   "outputs": [],
   "source": [
    "# 1.  Get the data\n",
    "import pandas\n",
    "iris = pandas.read_csv('~/Dropbox/datasets/iris.csv')\n",
    "admit = pandas.read_csv('~/Dropbox/datasets/admission.csv')\n",
    "\n"
   ]
  },
  {
   "cell_type": "code",
   "execution_count": 3,
   "metadata": {},
   "outputs": [],
   "source": [
    "\n",
    "# 2.  Select features\n",
    "X1 = iris.drop('Species', axis=1)\n",
    "y1 = iris.Species\n",
    "\n",
    "X2 = admit.drop('admit', axis=1)\n",
    "y2 = admit.admit\n"
   ]
  },
  {
   "cell_type": "code",
   "execution_count": 4,
   "metadata": {},
   "outputs": [],
   "source": [
    "\n",
    "# 3.  Create the models\n",
    "\n",
    "models = [ DecisionTreeClassifier(), SVC(), LogisticRegression() ]\n"
   ]
  },
  {
   "cell_type": "code",
   "execution_count": 5,
   "metadata": {},
   "outputs": [],
   "source": [
    "\n",
    "# 4.  Cross validate\n",
    "from sklearn.metrics import precision_score, recall_score\n",
    "from sklearn.model_selection import StratifiedKFold\n",
    "\n",
    "def cross_validate(model, X, y, k=10):\n",
    "    cv = StratifiedKFold(n_splits=k)\n",
    "    ps, rs = [], []\n",
    "    for train_idx, test_idx in cv.split(X, y):\n",
    "        X_train = X.loc[train_idx]\n",
    "        X_test = X.loc[test_idx]\n",
    "        y_train = y.loc[train_idx]\n",
    "        y_test = y.loc[test_idx]\n",
    "        model.fit(X_train, y_train)\n",
    "        y_pred = model.predict(X_test)\n",
    "        ps.append( precision_score(y_test, y_pred, average='weighted') )\n",
    "        rs.append( recall_score(y_test, y_pred, average='weighted') )\n",
    "    return sum(ps)/len(ps), sum(rs)/len(rs)\n"
   ]
  },
  {
   "cell_type": "code",
   "execution_count": 7,
   "metadata": {},
   "outputs": [
    {
     "name": "stdout",
     "output_type": "stream",
     "text": [
      "DecisionTreeClassifier(class_weight=None, criterion='gini', max_depth=None,\n",
      "            max_features=None, max_leaf_nodes=None,\n",
      "            min_impurity_decrease=0.0, min_impurity_split=None,\n",
      "            min_samples_leaf=1, min_samples_split=2,\n",
      "            min_weight_fraction_leaf=0.0, presort=False, random_state=None,\n",
      "            splitter='best')\n",
      "Precision, recall:  (0.6349062392247146, 0.6348624140087555)\n",
      "SVC(C=1.0, cache_size=200, class_weight=None, coef0=0.0,\n",
      "  decision_function_shape='ovr', degree=3, gamma='auto', kernel='rbf',\n",
      "  max_iter=-1, probability=False, random_state=None, shrinking=True,\n",
      "  tol=0.001, verbose=False)\n",
      "Precision, recall:  (0.6657640441457836, 0.6874421513445903)\n",
      "LogisticRegression(C=1.0, class_weight=None, dual=False, fit_intercept=True,\n",
      "          intercept_scaling=1, max_iter=100, multi_class='ovr', n_jobs=1,\n",
      "          penalty='l2', random_state=None, solver='liblinear', tol=0.0001,\n",
      "          verbose=0, warm_start=False)\n",
      "Precision, recall:  (0.6698075427223845, 0.7046372732958099)\n"
     ]
    }
   ],
   "source": [
    "for model in models:\n",
    "    print(model)\n",
    "    print('Precision, recall: ', cross_validate(model, X2, y2, 10))"
   ]
  },
  {
   "cell_type": "code",
   "execution_count": null,
   "metadata": {},
   "outputs": [],
   "source": []
  }
 ],
 "metadata": {
  "kernelspec": {
   "display_name": "Python [conda env:anaconda]",
   "language": "python",
   "name": "conda-env-anaconda-py"
  },
  "language_info": {
   "codemirror_mode": {
    "name": "ipython",
    "version": 3
   },
   "file_extension": ".py",
   "mimetype": "text/x-python",
   "name": "python",
   "nbconvert_exporter": "python",
   "pygments_lexer": "ipython3",
   "version": "3.6.4"
  }
 },
 "nbformat": 4,
 "nbformat_minor": 2
}
